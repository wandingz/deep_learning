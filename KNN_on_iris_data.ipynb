{
 "cells": [
  {
   "cell_type": "code",
   "execution_count": 130,
   "metadata": {},
   "outputs": [],
   "source": [
    "import numpy as np\n",
    "import pandas as pd\n",
    "import matplotlib.pyplot as plt; plt.rcParams['figure.figsize']=(10,5)\n",
    "import seaborn as sns; sns.set(style='whitegrid', palette='Set2')\n",
    "from datetime import datetime\n",
    "import random; random.seed(12)"
   ]
  },
  {
   "cell_type": "code",
   "execution_count": 131,
   "metadata": {},
   "outputs": [
    {
     "name": "stdout",
     "output_type": "stream",
     "text": [
      "(150, 5)\n",
      "[[5.1 3.5 1.4 0.2 'Iris-setosa']\n",
      " [4.9 3.0 1.4 0.2 'Iris-setosa']\n",
      " [4.7 3.2 1.3 0.2 'Iris-setosa']\n",
      " [4.6 3.1 1.5 0.2 'Iris-setosa']\n",
      " [5.0 3.6 1.4 0.2 'Iris-setosa']]\n",
      "unique classes: ['Iris-setosa' 'Iris-versicolor' 'Iris-virginica']\n"
     ]
    }
   ],
   "source": [
    "iris_dir = 'http://archive.ics.uci.edu/ml/machine-learning-databases/iris/iris.data'\n",
    "dt = pd.read_csv(iris_dir, header=None).values\n",
    "print(df.shape)\n",
    "print(dt[:5])\n",
    "print('unique classes:', np.unique(dt[:,-1]))"
   ]
  },
  {
   "cell_type": "code",
   "execution_count": 132,
   "metadata": {
    "collapsed": true
   },
   "outputs": [],
   "source": [
    "def split_data(data, train_set, test_set, ratio):\n",
    "    for d in data:\n",
    "        if random.random() < ratio:\n",
    "            train_set.append(d)\n",
    "        else:\n",
    "            test_set.append(d)\n",
    "    return train_set, test_set"
   ]
  },
  {
   "cell_type": "code",
   "execution_count": 133,
   "metadata": {},
   "outputs": [],
   "source": [
    "def get_euclidean_dist(inst1, inst2, nfeatures):\n",
    "    return np.sqrt(np.sum((inst1[:nfeatures] - inst2[:nfeatures])**2))"
   ]
  },
  {
   "cell_type": "code",
   "execution_count": 134,
   "metadata": {
    "collapsed": true
   },
   "outputs": [],
   "source": [
    "def get_neighbors(train_set, test_inst, nfeatures, k):\n",
    "    dist_lst = []\n",
    "    for train_inst in train_set:\n",
    "        dist = get_euclidean_dist(train_inst, test_inst, nfeatures)\n",
    "        dist_lst.append((dist, train_inst[-1]))\n",
    "    dist_lst.sort(key=lambda x: x[0], reverse=False)\n",
    "    return dist_lst[:k]"
   ]
  },
  {
   "cell_type": "code",
   "execution_count": 135,
   "metadata": {},
   "outputs": [],
   "source": [
    "def get_top_cls(train_set, test_inst, nfeatures, k):\n",
    "    neighbors = get_neighbors(train_set, test_inst, nfeatures, k)\n",
    "    cls_lst = [x[1] for x in neighbors]\n",
    "    cls_dict = {}\n",
    "    for x in cls_lst:\n",
    "        if x not in cls_dict:\n",
    "            cls_dict[x] = 1\n",
    "        else:\n",
    "            cls_dict[x] += 1\n",
    "    sorted_cls = sorted(cls_dict.items(), key=lambda x: x[1], reverse=True)\n",
    "    return sorted_cls[0][0]"
   ]
  },
  {
   "cell_type": "code",
   "execution_count": 136,
   "metadata": {},
   "outputs": [],
   "source": [
    "def check_accuracy(test_set, pred_lst):\n",
    "    count = 0\n",
    "    for i,test_inst in enumerate(test_set):\n",
    "        if pred_lst[i] == test_inst[-1]:\n",
    "            count += 1\n",
    "        else:\n",
    "            print('{0} mis-pred as {1}'.format(test_inst[-1], pred_lst[i]))\n",
    "    print('\\naccuracy rate: {0:.1%}'.format(count/len(test_set)))\n",
    "    return count"
   ]
  },
  {
   "cell_type": "code",
   "execution_count": 137,
   "metadata": {
    "collapsed": true
   },
   "outputs": [],
   "source": [
    "def main():\n",
    "    data = pd.read_csv(iris_dir, header=None).values\n",
    "    nfeatures = data.shape[1] - 1\n",
    "    ratio = .67\n",
    "    k = 3\n",
    "    train_set, test_set = [], []\n",
    "    train_set, test_set = split_data(data, train_set, test_set, ratio)\n",
    "    pred_lst = []\n",
    "    for test_inst in test_set:\n",
    "        pred = get_top_cls(train_set, test_inst, nfeatures, k)\n",
    "        pred_lst.append(pred)\n",
    "    acc_count = check_accuracy(test_set, pred_lst)"
   ]
  },
  {
   "cell_type": "code",
   "execution_count": 138,
   "metadata": {},
   "outputs": [
    {
     "name": "stdout",
     "output_type": "stream",
     "text": [
      "Iris-versicolor mis-pred as Iris-virginica\n",
      "Iris-virginica mis-pred as Iris-versicolor\n",
      "\n",
      "accuracy rate: 95.9%\n"
     ]
    }
   ],
   "source": [
    "main()"
   ]
  },
  {
   "cell_type": "code",
   "execution_count": null,
   "metadata": {
    "collapsed": true
   },
   "outputs": [],
   "source": []
  }
 ],
 "metadata": {
  "kernelspec": {
   "display_name": "Python [conda root]",
   "language": "python",
   "name": "conda-root-py"
  },
  "language_info": {
   "codemirror_mode": {
    "name": "ipython",
    "version": 3
   },
   "file_extension": ".py",
   "mimetype": "text/x-python",
   "name": "python",
   "nbconvert_exporter": "python",
   "pygments_lexer": "ipython3",
   "version": "3.6.3"
  }
 },
 "nbformat": 4,
 "nbformat_minor": 2
}
